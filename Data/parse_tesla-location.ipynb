{
 "cells": [
  {
   "cell_type": "code",
   "execution_count": 1,
   "metadata": {
    "collapsed": true
   },
   "outputs": [],
   "source": [
    "import requests as rq\n",
    "import pandas as pd\n",
    "from pandas import DataFrame, Series\n",
    "import re\n",
    "import csv\n",
    "import json\n",
    "from pprint import pprint"
   ]
  },
  {
   "cell_type": "code",
   "execution_count": 2,
   "metadata": {
    "collapsed": true
   },
   "outputs": [],
   "source": [
    "data = json.load(open('tesla-location.json'))"
   ]
  },
  {
   "cell_type": "code",
   "execution_count": 3,
   "metadata": {},
   "outputs": [
    {
     "data": {
      "text/plain": [
       "10923"
      ]
     },
     "execution_count": 3,
     "metadata": {},
     "output_type": "execute_result"
    }
   ],
   "source": [
    "len(data)"
   ]
  },
  {
   "cell_type": "code",
   "execution_count": 4,
   "metadata": {},
   "outputs": [
    {
     "data": {
      "text/plain": [
       "'United States'"
      ]
     },
     "execution_count": 4,
     "metadata": {},
     "output_type": "execute_result"
    }
   ],
   "source": [
    "data[0]['country']"
   ]
  },
  {
   "cell_type": "code",
   "execution_count": 5,
   "metadata": {
    "collapsed": true
   },
   "outputs": [],
   "source": [
    "country_station = {}"
   ]
  },
  {
   "cell_type": "code",
   "execution_count": 6,
   "metadata": {
    "collapsed": true
   },
   "outputs": [],
   "source": [
    "for station in data:\n",
    "    isdst = 'destination charger' in station['location_type']\n",
    "    issup = 'supercharger' in station['location_type']\n",
    "    if (not isdst and not issup):\n",
    "        continue\n",
    "    record = {}\n",
    "    record['latitude'] = station['latitude']\n",
    "    record['longitude'] = station['longitude']\n",
    "    record['location_type'] = []\n",
    "    if isdst:\n",
    "        record['location_type'].append('destination charger')\n",
    "    if issup:\n",
    "        record['location_type'].append('supercharger')\n",
    "    country = station['country']\n",
    "    if not country in country_station:\n",
    "        country_station[country] = []\n",
    "        country_station[country].append(record)\n",
    "    else:\n",
    "        country_station[country].append(record)"
   ]
  },
  {
   "cell_type": "code",
   "execution_count": 8,
   "metadata": {},
   "outputs": [
    {
     "data": {
      "text/plain": [
       "True"
      ]
     },
     "execution_count": 8,
     "metadata": {},
     "output_type": "execute_result"
    }
   ],
   "source": [
    "'destination charger' in ['destination charger']"
   ]
  },
  {
   "cell_type": "code",
   "execution_count": 9,
   "metadata": {},
   "outputs": [
    {
     "data": {
      "text/plain": [
       "[{'latitude': '53.1854650000',\n",
       "  'location_type': ['destination charger'],\n",
       "  'longitude': '-6.1806730000'},\n",
       " {'latitude': '53.2711640000',\n",
       "  'location_type': ['destination charger'],\n",
       "  'longitude': '-6.2058970000'},\n",
       " {'latitude': '52.8796170000',\n",
       "  'location_type': ['destination charger'],\n",
       "  'longitude': '-6.3316380000'},\n",
       " {'latitude': '53.4190530000',\n",
       "  'location_type': ['destination charger'],\n",
       "  'longitude': '-6.3787430000'},\n",
       " {'latitude': '51.9003340000',\n",
       "  'location_type': ['destination charger'],\n",
       "  'longitude': '-8.2926910000'},\n",
       " {'latitude': '53.5345150000',\n",
       "  'location_type': ['destination charger'],\n",
       "  'longitude': '-9.2849200000'},\n",
       " {'latitude': '51.8935460000',\n",
       "  'location_type': ['destination charger'],\n",
       "  'longitude': '-8.5084520000'},\n",
       " {'latitude': '52.5082100000',\n",
       "  'location_type': ['destination charger'],\n",
       "  'longitude': '-6.6118740000'},\n",
       " {'latitude': '52.5641920000',\n",
       "  'location_type': ['destination charger'],\n",
       "  'longitude': '-8.7777900000'},\n",
       " {'latitude': '53.0767480000',\n",
       "  'location_type': ['destination charger'],\n",
       "  'longitude': '-9.1841730000'},\n",
       " {'latitude': '52.8668480000',\n",
       "  'location_type': ['supercharger'],\n",
       "  'longitude': '-7.4820920000'},\n",
       " {'latitude': '52.7578220000',\n",
       "  'location_type': ['supercharger'],\n",
       "  'longitude': '-8.4088560000'},\n",
       " {'latitude': '53.4113750000',\n",
       "  'location_type': ['supercharger'],\n",
       "  'longitude': '-6.8794370000'},\n",
       " {'latitude': '54.5057170000',\n",
       "  'location_type': ['supercharger'],\n",
       "  'longitude': '-6.0286730000'},\n",
       " {'latitude': '52.6840900000',\n",
       "  'location_type': ['destination charger'],\n",
       "  'longitude': '-8.7100910000'},\n",
       " {'latitude': '51.9486360000',\n",
       "  'location_type': ['destination charger'],\n",
       "  'longitude': '-7.7153390000'},\n",
       " {'latitude': '53.4188900000',\n",
       "  'location_type': ['destination charger'],\n",
       "  'longitude': '-6.9229420000'},\n",
       " {'latitude': '51.8337950000',\n",
       "  'location_type': ['destination charger'],\n",
       "  'longitude': '-9.8985790000'},\n",
       " {'latitude': '54.6884430000',\n",
       "  'location_type': ['destination charger'],\n",
       "  'longitude': '-8.0664120000'},\n",
       " {'latitude': '53.2883280000',\n",
       "  'location_type': ['destination charger'],\n",
       "  'longitude': '-6.3529350000'},\n",
       " {'latitude': '55.1587160000',\n",
       "  'location_type': ['destination charger'],\n",
       "  'longitude': '-7.1232040000'},\n",
       " {'latitude': '51.9458700000',\n",
       "  'location_type': ['destination charger'],\n",
       "  'longitude': '-10.2270250000'}]"
      ]
     },
     "execution_count": 9,
     "metadata": {},
     "output_type": "execute_result"
    }
   ],
   "source": [
    "country_station['Ireland']"
   ]
  },
  {
   "cell_type": "code",
   "execution_count": 39,
   "metadata": {
    "collapsed": true
   },
   "outputs": [],
   "source": [
    "with open('ire_station.txt','w') as file:\n",
    "    pprint(country_station['United States'], file)"
   ]
  },
  {
   "cell_type": "code",
   "execution_count": 25,
   "metadata": {
    "collapsed": true
   },
   "outputs": [],
   "source": [
    "ishhh = 'hhh' in ['f']"
   ]
  },
  {
   "cell_type": "code",
   "execution_count": 26,
   "metadata": {},
   "outputs": [
    {
     "data": {
      "text/plain": [
       "False"
      ]
     },
     "execution_count": 26,
     "metadata": {},
     "output_type": "execute_result"
    }
   ],
   "source": [
    "ishhh"
   ]
  },
  {
   "cell_type": "code",
   "execution_count": 27,
   "metadata": {},
   "outputs": [
    {
     "name": "stdout",
     "output_type": "stream",
     "text": [
      "OH\n"
     ]
    }
   ],
   "source": [
    "if (not False and not False):\n",
    "    print(\"OH\")"
   ]
  },
  {
   "cell_type": "code",
   "execution_count": 42,
   "metadata": {
    "collapsed": true
   },
   "outputs": [],
   "source": [
    "us = country_station['United States']"
   ]
  },
  {
   "cell_type": "code",
   "execution_count": 47,
   "metadata": {
    "collapsed": true
   },
   "outputs": [],
   "source": [
    "keys = country_station['United States'][0].keys()"
   ]
  },
  {
   "cell_type": "code",
   "execution_count": 49,
   "metadata": {
    "collapsed": true
   },
   "outputs": [],
   "source": [
    "with open('us_csvfile.csv', 'w') as output_file:\n",
    "    dict_writer = csv.DictWriter(output_file, keys)\n",
    "    dict_writer.writeheader()\n",
    "    dict_writer.writerows(country_station['United States'])"
   ]
  },
  {
   "cell_type": "code",
   "execution_count": 43,
   "metadata": {},
   "outputs": [
    {
     "ename": "TypeError",
     "evalue": "a bytes-like object is required, not 'str'",
     "output_type": "error",
     "traceback": [
      "\u001b[0;31m---------------------------------------------------------------------------\u001b[0m",
      "\u001b[0;31mTypeError\u001b[0m                                 Traceback (most recent call last)",
      "\u001b[0;32m<ipython-input-43-adbcd574aa96>\u001b[0m in \u001b[0;36m<module>\u001b[0;34m()\u001b[0m\n\u001b[1;32m      1\u001b[0m \u001b[0;32mwith\u001b[0m \u001b[0mopen\u001b[0m\u001b[0;34m(\u001b[0m\u001b[0;34m'us_csvfile.csv'\u001b[0m\u001b[0;34m,\u001b[0m \u001b[0;34m'wb'\u001b[0m\u001b[0;34m)\u001b[0m \u001b[0;32mas\u001b[0m \u001b[0mf\u001b[0m\u001b[0;34m:\u001b[0m\u001b[0;34m\u001b[0m\u001b[0m\n\u001b[1;32m      2\u001b[0m     \u001b[0mwr\u001b[0m \u001b[0;34m=\u001b[0m \u001b[0mcsv\u001b[0m\u001b[0;34m.\u001b[0m\u001b[0mwriter\u001b[0m\u001b[0;34m(\u001b[0m\u001b[0mf\u001b[0m\u001b[0;34m,\u001b[0m \u001b[0mquoting\u001b[0m\u001b[0;34m=\u001b[0m\u001b[0mcsv\u001b[0m\u001b[0;34m.\u001b[0m\u001b[0mQUOTE_ALL\u001b[0m\u001b[0;34m)\u001b[0m\u001b[0;34m\u001b[0m\u001b[0m\n\u001b[0;32m----> 3\u001b[0;31m     \u001b[0mwr\u001b[0m\u001b[0;34m.\u001b[0m\u001b[0mwriterow\u001b[0m\u001b[0;34m(\u001b[0m\u001b[0mus\u001b[0m\u001b[0;34m)\u001b[0m\u001b[0;34m\u001b[0m\u001b[0m\n\u001b[0m",
      "\u001b[0;31mTypeError\u001b[0m: a bytes-like object is required, not 'str'"
     ]
    }
   ],
   "source": [
    "with open('us_csvfile.csv', 'wb') as f:\n",
    "    wr = csv.writer(f, quoting=csv.QUOTE_ALL)\n",
    "    wr.writerow(us)"
   ]
  },
  {
   "cell_type": "code",
   "execution_count": null,
   "metadata": {
    "collapsed": true
   },
   "outputs": [],
   "source": []
  }
 ],
 "metadata": {
  "kernelspec": {
   "display_name": "Python 3",
   "language": "python",
   "name": "python3"
  },
  "language_info": {
   "codemirror_mode": {
    "name": "ipython",
    "version": 3
   },
   "file_extension": ".py",
   "mimetype": "text/x-python",
   "name": "python",
   "nbconvert_exporter": "python",
   "pygments_lexer": "ipython3",
   "version": "3.6.1"
  }
 },
 "nbformat": 4,
 "nbformat_minor": 2
}
