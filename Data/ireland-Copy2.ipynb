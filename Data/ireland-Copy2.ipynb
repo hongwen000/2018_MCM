{
 "cells": [
  {
   "cell_type": "code",
   "execution_count": 3,
   "metadata": {
    "collapsed": true
   },
   "outputs": [],
   "source": [
    "import requests\n",
    "from bs4 import BeautifulSoup"
   ]
  },
  {
   "cell_type": "code",
   "execution_count": null,
   "metadata": {
    "collapsed": true
   },
   "outputs": [],
   "source": []
  },
  {
   "cell_type": "code",
   "execution_count": 4,
   "metadata": {
    "collapsed": true
   },
   "outputs": [],
   "source": [
    "links = [\"https://www.nratrafficdata.ie/c2/calendar_alt.asp?sgid=ZvyVmXU8jBt9PJE$c7UXt6&spid=NRA_000000020063\",\n",
    "        \"https://www.nratrafficdata.ie/c2/calendar_alt.asp?sgid=ZvyVmXU8jBt9PJE$c7UXt6&spid=NRA_000000020088\",\n",
    "        \"https://www.nratrafficdata.ie/c2/calendar_alt.asp?sgid=ZvyVmXU8jBt9PJE$c7UXt6&spid=NRA_000000020701\"]"
   ]
  },
  {
   "cell_type": "code",
   "execution_count": null,
   "metadata": {
    "collapsed": true
   },
   "outputs": [],
   "source": []
  },
  {
   "cell_type": "code",
   "execution_count": 5,
   "metadata": {
    "collapsed": true
   },
   "outputs": [],
   "source": [
    "from tomorrow import threads"
   ]
  },
  {
   "cell_type": "code",
   "execution_count": 7,
   "metadata": {
    "collapsed": true
   },
   "outputs": [],
   "source": [
    "@threads(32)\n",
    "def download(url):\n",
    "    return requests.get(url)"
   ]
  },
  {
   "cell_type": "code",
   "execution_count": 8,
   "metadata": {},
   "outputs": [],
   "source": [
    "reponses = [download(link) for link in links]"
   ]
  },
  {
   "cell_type": "code",
   "execution_count": 9,
   "metadata": {
    "collapsed": true
   },
   "outputs": [],
   "source": [
    "source_codes =[response.text for response in reponses]"
   ]
  },
  {
   "cell_type": "code",
   "execution_count": 10,
   "metadata": {},
   "outputs": [
    {
     "name": "stderr",
     "output_type": "stream",
     "text": [
      "/Users/lixinrui/anaconda/lib/python3.6/site-packages/bs4/__init__.py:181: UserWarning: No parser was explicitly specified, so I'm using the best available HTML parser for this system (\"lxml\"). This usually isn't a problem, but if you run this code on another system, or in a different virtual environment, it may use a different parser and behave differently.\n",
      "\n",
      "The code that caused this warning is on line 193 of the file /Users/lixinrui/anaconda/lib/python3.6/runpy.py. To get rid of this warning, change code that looks like this:\n",
      "\n",
      " BeautifulSoup(YOUR_MARKUP})\n",
      "\n",
      "to this:\n",
      "\n",
      " BeautifulSoup(YOUR_MARKUP, \"lxml\")\n",
      "\n",
      "  markup_type=markup_type))\n"
     ]
    }
   ],
   "source": [
    "soups = [BeautifulSoup(source_code) for source_code in source_codes]"
   ]
  },
  {
   "cell_type": "code",
   "execution_count": 11,
   "metadata": {
    "collapsed": true
   },
   "outputs": [],
   "source": [
    "allnames=[\"TMU M01 086.1 S\",\n",
    "         \"TMU M08 040.0 N\",\n",
    "         \"TMU N70 090.0 E\",]"
   ]
  },
  {
   "cell_type": "code",
   "execution_count": 12,
   "metadata": {},
   "outputs": [
    {
     "data": {
      "text/plain": [
       "['TMU M01 086.1 S', 'TMU M08 040.0 N', 'TMU N70 090.0 E']"
      ]
     },
     "execution_count": 12,
     "metadata": {},
     "output_type": "execute_result"
    }
   ],
   "source": [
    "allnames"
   ]
  },
  {
   "cell_type": "code",
   "execution_count": null,
   "metadata": {
    "collapsed": true
   },
   "outputs": [],
   "source": []
  },
  {
   "cell_type": "code",
   "execution_count": 13,
   "metadata": {},
   "outputs": [],
   "source": [
    "final = []\n",
    "for idx, soup in enumerate(soups):\n",
    "    #print(idx)\n",
    "    onetag = soup.find('div', {'id': 'content_summary'})\n",
    "    if onetag is None:\n",
    "        print(\"bad\", idx)\n",
    "        continue\n",
    "    onetable = onetag.find('table')\n",
    "    if onetable is None:\n",
    "        print(\"bad\",idx)\n",
    "        continue\n",
    "    values = onetable.find('tr').findAll('td')\n",
    "    record = {}\n",
    "    record['name'] = allnames[idx]\n",
    "    for i in range(1,6):\n",
    "        record[str(2018-i+1)] = values[i].string\n",
    "    final.append(record)"
   ]
  },
  {
   "cell_type": "code",
   "execution_count": null,
   "metadata": {
    "collapsed": true
   },
   "outputs": [],
   "source": []
  },
  {
   "cell_type": "code",
   "execution_count": 14,
   "metadata": {
    "scrolled": true
   },
   "outputs": [
    {
     "data": {
      "text/plain": [
       "[{'2014': '15159',\n",
       "  '2015': '16259',\n",
       "  '2016': '17141',\n",
       "  '2017': '17892',\n",
       "  '2018': '16203',\n",
       "  'name': 'TMU M01 086.1 S'},\n",
       " {'2014': '11369',\n",
       "  '2015': '11929',\n",
       "  '2016': '12662',\n",
       "  '2017': '13230',\n",
       "  '2018': '11385',\n",
       "  'name': 'TMU M08 040.0 N'},\n",
       " {'2014': '2487',\n",
       "  '2015': '2595',\n",
       "  '2016': '2784',\n",
       "  '2017': '2864',\n",
       "  '2018': '1994',\n",
       "  'name': 'TMU N70 090.0 E'}]"
      ]
     },
     "execution_count": 14,
     "metadata": {},
     "output_type": "execute_result"
    }
   ],
   "source": [
    "final"
   ]
  },
  {
   "cell_type": "code",
   "execution_count": 33,
   "metadata": {
    "collapsed": true
   },
   "outputs": [],
   "source": [
    "onetag = soups[0].find('div', {'id': 'content_summary'})"
   ]
  },
  {
   "cell_type": "code",
   "execution_count": 49,
   "metadata": {
    "collapsed": true
   },
   "outputs": [],
   "source": [
    "onename = onetag.find('div', {'class': \"panel-heading\"})"
   ]
  },
  {
   "cell_type": "code",
   "execution_count": 51,
   "metadata": {},
   "outputs": [
    {
     "name": "stdout",
     "output_type": "stream",
     "text": [
      "None\n"
     ]
    }
   ],
   "source": [
    "print(onename)"
   ]
  },
  {
   "cell_type": "code",
   "execution_count": 47,
   "metadata": {},
   "outputs": [
    {
     "data": {
      "text/plain": [
       "<table class=\"siteDetails table table-hover table-striped table-bordered\"><colgroup class=\"siteDetailsEmpty\"> <col/></colgroup><colgroup class=\"siteDetailsYear\"> <col/> <col/> <col/> <col/> <col/></colgroup><thead> <th></th><th>2018</th><th>2017</th><th>2016</th><th>2015</th><th>2014</th></thead><tr><td>AADT</td><td>9015</td><td>9474</td><td>-</td><td>-</td><td>-</td></tr><tr><td>% HGV</td><td>6.3%</td><td>5.1%</td><td>-</td><td>-</td><td>-</td></tr><tr><td>Coverage</td><td>10.9%</td><td>24.5%</td><td>-</td><td>-</td><td>-</td></tr></table>"
      ]
     },
     "execution_count": 47,
     "metadata": {},
     "output_type": "execute_result"
    }
   ],
   "source": [
    "onetable = onetag.find('table')\n",
    "onetable"
   ]
  },
  {
   "cell_type": "code",
   "execution_count": 67,
   "metadata": {
    "collapsed": true
   },
   "outputs": [],
   "source": [
    "values = onetable.find('tr').findAll('td')"
   ]
  },
  {
   "cell_type": "code",
   "execution_count": 70,
   "metadata": {},
   "outputs": [
    {
     "data": {
      "text/plain": [
       "<td>9015</td>"
      ]
     },
     "execution_count": 70,
     "metadata": {},
     "output_type": "execute_result"
    }
   ],
   "source": [
    "values[1]"
   ]
  },
  {
   "cell_type": "code",
   "execution_count": 46,
   "metadata": {},
   "outputs": [
    {
     "name": "stdout",
     "output_type": "stream",
     "text": [
      "AADT\n",
      "9015\n",
      "9474\n",
      "-\n",
      "-\n",
      "-\n"
     ]
    }
   ],
   "source": [
    "for value in values:\n",
    "    print(value.string)"
   ]
  },
  {
   "cell_type": "code",
   "execution_count": null,
   "metadata": {
    "collapsed": true
   },
   "outputs": [],
   "source": []
  }
 ],
 "metadata": {
  "kernelspec": {
   "display_name": "Python 3",
   "language": "python",
   "name": "python3"
  },
  "language_info": {
   "codemirror_mode": {
    "name": "ipython",
    "version": 3
   },
   "file_extension": ".py",
   "mimetype": "text/x-python",
   "name": "python",
   "nbconvert_exporter": "python",
   "pygments_lexer": "ipython3",
   "version": "3.6.1"
  }
 },
 "nbformat": 4,
 "nbformat_minor": 2
}
