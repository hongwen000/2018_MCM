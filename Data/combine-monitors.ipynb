{
 "cells": [
  {
   "cell_type": "code",
   "execution_count": 2,
   "metadata": {},
   "outputs": [
    {
     "data": {
      "text/plain": [
       "'TMU M01'"
      ]
     },
     "execution_count": 2,
     "metadata": {},
     "output_type": "execute_result"
    }
   ],
   "source": [
    "def hashname(name):\n",
    "    return name[0:7]\n",
    "hashname(\"TMU M01 005.0 N\")"
   ]
  },
  {
   "cell_type": "code",
   "execution_count": 10,
   "metadata": {},
   "outputs": [],
   "source": [
    "import csv\n",
    "monitors = {}\n",
    "with open(\"ireland_lati_longti_del.csv\", 'rt', encoding='utf-8') as fin:\n",
    "    cin = csv.DictReader(fin)\n",
    "    for idx,row in enumerate(cin):\n",
    "        name = row['name']\n",
    "        name = hashname(name)\n",
    "        lat  = float(row['lati'])\n",
    "        lng  = float(row['longti'])\n",
    "        count= float(row['avg'])\n",
    "        if not name in monitors:\n",
    "            monitors[name] = {'lat': lat, 'lng': lng, 'count': count, 'num_monitor': 1.0}\n",
    "        else:\n",
    "            monitors[name]['lat'] += lat\n",
    "            monitors[name]['lng'] += lng\n",
    "            monitors[name]['count'] += count\n",
    "            monitors[name]['num_monitor'] += 1\n",
    "    for row in monitors:\n",
    "        monitors[name]['lat'] /= monitors[name]['num_monitor']\n",
    "        monitors[name]['lng'] /= monitors[name]['num_monitor']\n",
    "        monitors[name]['count'] /= monitors[name]['num_monitor']"
   ]
  },
  {
   "cell_type": "code",
   "execution_count": 9,
   "metadata": {},
   "outputs": [
    {
     "data": {
      "text/plain": [
       "53.4178"
      ]
     },
     "execution_count": 9,
     "metadata": {},
     "output_type": "execute_result"
    }
   ],
   "source": [
    "i = 0\n",
    "i += 2\n",
    "float(\"53.4178\")"
   ]
  },
  {
   "cell_type": "code",
   "execution_count": 4,
   "metadata": {},
   "outputs": [
    {
     "data": {
      "text/plain": [
       "2"
      ]
     },
     "execution_count": 4,
     "metadata": {},
     "output_type": "execute_result"
    }
   ],
   "source": [
    "i"
   ]
  },
  {
   "cell_type": "code",
   "execution_count": 17,
   "metadata": {},
   "outputs": [],
   "source": [
    "records = []\n",
    "for key,value in monitors.items():\n",
    "    record = {'name': key, 'lat': value['lat'], 'lng': value['lng'], 'count': value['count']}\n",
    "    records.append(record)"
   ]
  },
  {
   "cell_type": "code",
   "execution_count": 19,
   "metadata": {},
   "outputs": [
    {
     "data": {
      "text/plain": [
       "84"
      ]
     },
     "execution_count": 19,
     "metadata": {},
     "output_type": "execute_result"
    }
   ],
   "source": [
    "len(records)"
   ]
  },
  {
   "cell_type": "code",
   "execution_count": 20,
   "metadata": {
    "collapsed": true
   },
   "outputs": [],
   "source": [
    "with open('ireland_lati_longti_avg.csv', 'w') as output_file:\n",
    "    dict_writer = csv.DictWriter(output_file,['name','lat','lng','count'])\n",
    "    dict_writer.writeheader()\n",
    "    dict_writer.writerows(records)"
   ]
  },
  {
   "cell_type": "code",
   "execution_count": null,
   "metadata": {
    "collapsed": true
   },
   "outputs": [],
   "source": []
  }
 ],
 "metadata": {
  "kernelspec": {
   "display_name": "Python 3",
   "language": "python",
   "name": "python3"
  },
  "language_info": {
   "codemirror_mode": {
    "name": "ipython",
    "version": 3
   },
   "file_extension": ".py",
   "mimetype": "text/x-python",
   "name": "python",
   "nbconvert_exporter": "python",
   "pygments_lexer": "ipython3",
   "version": "3.6.1"
  }
 },
 "nbformat": 4,
 "nbformat_minor": 2
}
